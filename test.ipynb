{
 "cells": [
  {
   "cell_type": "code",
   "execution_count": 1,
   "metadata": {},
   "outputs": [],
   "source": [
    "import numpy as np\n",
    "from scipy.linalg import lapack, svd, qr, eig\n",
    "import QRDM\n",
    "import time\n",
    "import QR\n",
    "from auxil import *\n",
    "import matplotlib.pyplot as plt"
   ]
  },
  {
   "cell_type": "code",
   "execution_count": 2,
   "metadata": {},
   "outputs": [
    {
     "name": "stdout",
     "output_type": "stream",
     "text": [
      "Help on module QRDM:\n",
      "\n",
      "NAME\n",
      "    QRDM - With this wrapper you can run the QRDM algorithm from Python.\n",
      "\n",
      "FUNCTIONS\n",
      "    DORMQR(...)\n",
      "        LAPACK dormqr\n",
      "    \n",
      "    QP3(...)\n",
      "        LAPACK QR with column pivoting (from lapacke)\n",
      "    \n",
      "    QRDM(...)\n",
      "        QR with Deviation Maximization pivoting\n",
      "    \n",
      "    init(...)\n",
      "        initialize module\n",
      "\n",
      "FILE\n",
      "    /home/condivisione/Monica/dmrrqr/qrdm/QRDM.cpython-37m-x86_64-linux-gnu.so\n",
      "\n",
      "\n"
     ]
    }
   ],
   "source": [
    "help(QRDM)"
   ]
  },
  {
   "cell_type": "code",
   "execution_count": 3,
   "metadata": {},
   "outputs": [],
   "source": [
    "matrix_layout = 102\n",
    "m = 2**7\n",
    "n = m\n",
    "lda = m"
   ]
  },
  {
   "cell_type": "code",
   "execution_count": 4,
   "metadata": {},
   "outputs": [
    {
     "name": "stdout",
     "output_type": "stream",
     "text": [
      "n= 128\n",
      "cond(X) =  1.6299999999999997e+17 , sigma_1 =  1.63 sigma_n =  1e-17 \n",
      "\n"
     ]
    }
   ],
   "source": [
    "#generate matrix with given sv distribution\n",
    "M = max(m,n)\n",
    "r = math.floor(min(m,n)*5/10)\n",
    "# generate random matrix with\n",
    "# condition number = O(gap)\n",
    "U,X = qr(np.random.randn(M,M))\n",
    "V,X = qr(np.random.randn(M,M)) \n",
    "gap = 1e-17\n",
    "eigv = np.exp2(1- np.arange(1,M+1)) +gap \n",
    "eigv[:r] = eigv[:r] + 0.01*(r-np.arange(1,r+1));\n",
    "\n",
    "X = U @ np.diag(eigv) @ V.T\n",
    "print('n=', n)\n",
    "#controllo il rango numerico\n",
    "print(\"cond(X) = \", eigv[0]/eigv[-1], \", sigma_1 = \", eigv[0], \"sigma_n = \", eigv[-1], \"\\n\")\n"
   ]
  },
  {
   "cell_type": "code",
   "execution_count": 5,
   "metadata": {},
   "outputs": [
    {
     "data": {
      "text/plain": [
       "[<matplotlib.lines.Line2D at 0x7f0a04de4e10>]"
      ]
     },
     "execution_count": 5,
     "metadata": {},
     "output_type": "execute_result"
    },
    {
     "data": {
      "image/png": "[encoded data removed]",
      "text/plain": [
       "<Figure size 432x288 with 1 Axes>"
      ]
     },
     "metadata": {
      "needs_background": "light"
     },
     "output_type": "display_data"
    }
   ],
   "source": [
    "plt.semilogy(eigv, '*')"
   ]
  },
  {
   "cell_type": "code",
   "execution_count": 6,
   "metadata": {},
   "outputs": [
    {
     "name": "stdout",
     "output_type": "stream",
     "text": [
      "Numerical rank =  64 64\n"
     ]
    }
   ],
   "source": [
    "print('Numerical rank = ', r, np.amin(np.where(eigv<1e-13)[0])+1 )#np.argmin(eigv))"
   ]
  },
  {
   "cell_type": "code",
   "execution_count": 7,
   "metadata": {},
   "outputs": [
    {
     "name": "stdout",
     "output_type": "stream",
     "text": [
      "Chiamo QP3\n",
      "Elapsed time QP3 0.0060786582 seconds\n",
      "||Q.T*Q - I|| =  1.0521712106757925e-14\n",
      "||A[:,p] - Q*R|| =  2.3657936483391365e-15\n"
     ]
    }
   ],
   "source": [
    "print('Chiamo QP3')\n",
    "A = X.copy()\n",
    "jpvt = np.ones((n,),dtype = np.int32)\n",
    "tau = np.zeros((n,),dtype = np.float64)\n",
    "\n",
    "tic = time.perf_counter()\n",
    "#effettuo QR con pivoting\n",
    "out = QRDM.QP3(matrix_layout, m,n,A,lda,jpvt,tau)\n",
    "toc = time.perf_counter()\n",
    "elQRP = toc-tic\n",
    "print(f\"Elapsed time QP3 {toc - tic:0.10f} seconds\")\n",
    "# controllo fattore Q\n",
    "Q,R,err,errQ = checkQ(matrix_layout, m, n, A, X, tau, jpvt, verbose = True)"
   ]
  },
  {
   "cell_type": "code",
   "execution_count": 8,
   "metadata": {
    "scrolled": true
   },
   "outputs": [
    {
     "data": {
      "text/plain": [
       "[<matplotlib.lines.Line2D at 0x7f099ca3ed90>]"
      ]
     },
     "execution_count": 8,
     "metadata": {},
     "output_type": "execute_result"
    },
    {
     "data": {
      "image/png": "[encoded data removed]",
      "text/plain": [
       "<Figure size 432x288 with 1 Axes>"
      ]
     },
     "metadata": {
      "needs_background": "light"
     },
     "output_type": "display_data"
    }
   ],
   "source": [
    "diagR = np.absolute(np.diag(R))\n",
    "plt.semilogy(diagR, '*')"
   ]
  },
  {
   "cell_type": "code",
   "execution_count": 9,
   "metadata": {},
   "outputs": [],
   "source": [
    "d = 0.9\n",
    "t = 0.15\n",
    "thres = np.array([d,t],dtype = np.float64) #1-0.3"
   ]
  },
  {
   "cell_type": "code",
   "execution_count": 10,
   "metadata": {},
   "outputs": [
    {
     "name": "stdout",
     "output_type": "stream",
     "text": [
      "\n",
      "***************************************\n",
      "\n",
      "QRDM, tau = 0.15 delta = 0.9\n",
      "Elapsed time QRP 0.0080551528 seconds\n",
      "||Q.T*Q - I|| =  1.1038208320291576e-14\n",
      "||A[:,p] - Q*R|| =  2.448364680968117e-15\n"
     ]
    }
   ],
   "source": [
    "print(\"\\n***************************************\\n\")\n",
    "print('QRDM, tau =',t,'delta =',d)\n",
    "A = X.copy()\n",
    "jpvt = np.zeros((n,),dtype = np.int32)\n",
    "ncols = np.zeros((n,),dtype = np.int32) # cambiare zeros in ones o viceversa\n",
    "tau = np.zeros((n,),dtype = np.float64)\n",
    "\n",
    "tic = time.perf_counter()\n",
    "#effettuo QR con pivoting\n",
    "out = QRDM.QRDM(matrix_layout, m,n,A,lda,jpvt,tau, ncols,thres,64)\n",
    "toc = time.perf_counter()\n",
    "elDMQR = toc-tic\n",
    "print(f\"Elapsed time QRP {toc - tic:0.10f} seconds\")\n",
    "Q,R,err,errQ = checkQ(matrix_layout, m, n, A, X, tau, jpvt,  verbose = True)"
   ]
  },
  {
   "cell_type": "code",
   "execution_count": 11,
   "metadata": {},
   "outputs": [
    {
     "data": {
      "text/plain": [
       "[<matplotlib.lines.Line2D at 0x7f099a8aa250>]"
      ]
     },
     "execution_count": 11,
     "metadata": {},
     "output_type": "execute_result"
    },
    {
     "data": {
      "image/png": "[encoded data removed]",
      "text/plain": [
       "<Figure size 432x288 with 1 Axes>"
      ]
     },
     "metadata": {
      "needs_background": "light"
     },
     "output_type": "display_data"
    }
   ],
   "source": [
    "diagR = np.absolute(np.diag(R))\n",
    "plt.semilogy(diagR, '*')"
   ]
  },
  {
   "cell_type": "code",
   "execution_count": 12,
   "metadata": {},
   "outputs": [
    {
     "name": "stdout",
     "output_type": "stream",
     "text": [
      "\n",
      "***************************************\n",
      "\n",
      "QRDM with stop, tau = 0.15 delta = 0.9\n",
      "Elapsed time QRP 0.0051366882 seconds\n",
      "Numerical rank  63\n",
      "||Q.T*Q - I|| =  8.268873652963668e-15\n",
      "||R_22||_2 =  2.8957480825013858e-15\n",
      "||A[:,p] - Q*R|| =  2.4841287266849215e-15\n"
     ]
    }
   ],
   "source": [
    "print(\"\\n***************************************\\n\")\n",
    "print('QRDM with stop, tau =',t,'delta =',d)\n",
    "A = X.copy()\n",
    "jpvt = np.zeros((n,),dtype = np.int32)\n",
    "ncols = np.zeros((n,),dtype = np.int32) # cambiare zeros in ones o viceversa\n",
    "ncols[0] = 1\n",
    "tau = np.zeros((n,),dtype = np.float64)\n",
    "\n",
    "tic = time.perf_counter()\n",
    "#effettuo QR con pivoting\n",
    "out = QRDM.QRDM(matrix_layout, m,n,A,lda,jpvt,tau, ncols,thres,64)\n",
    "toc = time.perf_counter()\n",
    "elDMQR = toc-tic\n",
    "print(f\"Elapsed time QRP {toc - tic:0.10f} seconds\")\n",
    "r_QRDM = np.sum(ncols[:n])\n",
    "print('Numerical rank ', r_QRDM)\n",
    "Q,R,err,errQ = checkQ(matrix_layout, m, n, A, X, tau, jpvt, k = r_QRDM, verbose = True)"
   ]
  },
  {
   "cell_type": "code",
   "execution_count": 13,
   "metadata": {
    "scrolled": true
   },
   "outputs": [
    {
     "data": {
      "text/plain": [
       "[<matplotlib.lines.Line2D at 0x7f099a794e10>]"
      ]
     },
     "execution_count": 13,
     "metadata": {},
     "output_type": "execute_result"
    },
    {
     "data": {
      "image/png": "[encoded data removed]",
      "text/plain": [
       "<Figure size 432x288 with 1 Axes>"
      ]
     },
     "metadata": {
      "needs_background": "light"
     },
     "output_type": "display_data"
    }
   ],
   "source": [
    "diagR = np.absolute(np.diag(R))\n",
    "plt.semilogy(diagR, '*')"
   ]
  },
  {
   "cell_type": "code",
   "execution_count": null,
   "metadata": {},
   "outputs": [],
   "source": []
  }
 ],
 "metadata": {
  "anaconda-cloud": {},
  "kernelspec": {
   "display_name": "Python 3",
   "language": "python",
   "name": "python3"
  },
  "language_info": {
   "codemirror_mode": {
    "name": "ipython",
    "version": 3
   },
   "file_extension": ".py",
   "mimetype": "text/x-python",
   "name": "python",
   "nbconvert_exporter": "python",
   "pygments_lexer": "ipython3",
   "version": "3.7.10"
  }
 },
 "nbformat": 4,
 "nbformat_minor": 1
}
