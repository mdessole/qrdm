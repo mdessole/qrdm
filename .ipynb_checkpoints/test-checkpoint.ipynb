{
 "cells": [
  {
   "cell_type": "code",
   "execution_count": 1,
   "metadata": {},
   "outputs": [],
   "source": [
    "import numpy as np\n",
    "from scipy.linalg import lapack, svd, qr, eig\n",
    "import QRDM\n",
    "import time\n",
    "from auxil import *\n",
    "import matplotlib.pyplot as plt"
   ]
  },
  {
   "cell_type": "code",
   "execution_count": 2,
   "metadata": {},
   "outputs": [
    {
     "name": "stdout",
     "output_type": "stream",
     "text": [
      "Help on module QRDM:\n",
      "\n",
      "NAME\n",
      "    QRDM - With this wrapper you can run the QRDM algorithm from Python.\n",
      "\n",
      "FUNCTIONS\n",
      "    DORMQR(...)\n",
      "        LAPACK dormqr\n",
      "    \n",
      "    QP3(...)\n",
      "        LAPACK QR with column pivoting (from lapacke)\n",
      "    \n",
      "    QRDM(...)\n",
      "        QR with Deviation Maximization pivoting\n",
      "    \n",
      "    QRF(...)\n",
      "        LAPACK QR without column pivoting (from lapacke)\n",
      "    \n",
      "    init(...)\n",
      "        initialize module\n",
      "\n",
      "FILE\n",
      "    /home/jupyter/Jupyter/notebook/qrdm/public/qrdm/QRDM.cpython-38-x86_64-linux-gnu.so\n",
      "\n",
      "\n"
     ]
    }
   ],
   "source": [
    "help(QRDM)"
   ]
  },
  {
   "cell_type": "code",
   "execution_count": 3,
   "metadata": {},
   "outputs": [],
   "source": [
    "matrix_layout = 102\n",
    "m = 2**7\n",
    "n = m\n",
    "lda = m"
   ]
  },
  {
   "cell_type": "code",
   "execution_count": 6,
   "metadata": {},
   "outputs": [
    {
     "name": "stdout",
     "output_type": "stream",
     "text": [
      "n= 128\n",
      "cond(X) =  1.6299999999999997e+17 , sigma_1 =  1.63 sigma_n =  1e-17 \n",
      "\n"
     ]
    }
   ],
   "source": [
    "#generate matrix with given sv distribution\n",
    "M = max(m,n)\n",
    "r = math.floor(min(m,n)*5/10)\n",
    "# generate random matrix with\n",
    "# condition number = O(gap)\n",
    "U,X = qr(np.random.randn(M,M))\n",
    "V,X = qr(np.random.randn(M,M)) \n",
    "gap = 1e-17\n",
    "sv = np.exp2(1- np.arange(1,M+1)) +gap \n",
    "sv[:r] = sv[:r] + 0.01*(r-np.arange(1,r+1));\n",
    "\n",
    "X = U @ np.diag(sv) @ V.T\n",
    "print('n=', n)\n",
    "#controllo il rango numerico\n",
    "print(\"cond(X) = \", sv[0]/sv[-1], \", sigma_1 = \", sv[0], \"sigma_n = \", sv[-1], \"\\n\")\n"
   ]
  },
  {
   "cell_type": "code",
   "execution_count": 7,
   "metadata": {},
   "outputs": [
    {
     "data": {
      "text/plain": [
       "[<matplotlib.lines.Line2D at 0x7fcbfa903f40>]"
      ]
     },
     "execution_count": 7,
     "metadata": {},
     "output_type": "execute_result"
    },
    {
     "data": {
      "image/png": "[encoded data removed]",
      "text/plain": [
       "<Figure size 432x288 with 1 Axes>"
      ]
     },
     "metadata": {
      "needs_background": "light"
     },
     "output_type": "display_data"
    }
   ],
   "source": [
    "plt.semilogy(sv, '*')"
   ]
  },
  {
   "cell_type": "code",
   "execution_count": 8,
   "metadata": {},
   "outputs": [
    {
     "name": "stdout",
     "output_type": "stream",
     "text": [
      "Numerical rank =  64 64\n"
     ]
    }
   ],
   "source": [
    "print('Numerical rank = ', r, rank_from_sv(sv, tol=1e-13) )#np.argmin(eigv))"
   ]
  },
  {
   "cell_type": "code",
   "execution_count": 9,
   "metadata": {},
   "outputs": [
    {
     "name": "stdout",
     "output_type": "stream",
     "text": [
      "Chiamo QP3\n",
      "Elapsed time QP3 0.0018759165 seconds\n",
      "||Q.T*Q - I|| =  1.3827337897599802e-14\n",
      "||A[:,p] - Q*R|| =  2.584495440391414e-15\n"
     ]
    }
   ],
   "source": [
    "print('Chiamo QP3')\n",
    "A = X.copy()\n",
    "jpvt = np.ones((n,),dtype = np.int32)\n",
    "tau = np.zeros((n,),dtype = np.float64)\n",
    "\n",
    "tic = time.perf_counter()\n",
    "#effettuo QR con pivoting\n",
    "out = QRDM.QP3(matrix_layout, m,n,A,lda,jpvt,tau)\n",
    "toc = time.perf_counter()\n",
    "elQRP = toc-tic\n",
    "print(f\"Elapsed time QP3 {toc - tic:0.10f} seconds\")\n",
    "# controllo fattore Q\n",
    "Q,R,err,errQ = checkQR(matrix_layout, m, n, A, X, tau, jpvt, verbose = True)"
   ]
  },
  {
   "cell_type": "code",
   "execution_count": 10,
   "metadata": {
    "scrolled": true
   },
   "outputs": [
    {
     "data": {
      "text/plain": [
       "[<matplotlib.lines.Line2D at 0x7fcbfa7edb80>]"
      ]
     },
     "execution_count": 10,
     "metadata": {},
     "output_type": "execute_result"
    },
    {
     "data": {
      "image/png": "[encoded data removed]",
      "text/plain": [
       "<Figure size 432x288 with 1 Axes>"
      ]
     },
     "metadata": {
      "needs_background": "light"
     },
     "output_type": "display_data"
    }
   ],
   "source": [
    "diagR = np.absolute(np.diag(R))\n",
    "plt.semilogy(diagR, '*')"
   ]
  },
  {
   "cell_type": "code",
   "execution_count": 11,
   "metadata": {},
   "outputs": [],
   "source": [
    "d = 0.9\n",
    "t = 0.15\n",
    "thres = np.array([d,t],dtype = np.float64) #1-0.3"
   ]
  },
  {
   "cell_type": "code",
   "execution_count": 12,
   "metadata": {},
   "outputs": [
    {
     "name": "stdout",
     "output_type": "stream",
     "text": [
      "\n",
      "***************************************\n",
      "\n",
      "QRDM, tau = 0.15 delta = 0.9\n",
      "Elapsed time QRP 0.0019971253 seconds\n",
      "||Q.T*Q - I|| =  1.459831684310286e-14\n",
      "||A[:,p] - Q*R|| =  3.0441903996365562e-15\n"
     ]
    }
   ],
   "source": [
    "print(\"\\n***************************************\\n\")\n",
    "print('QRDM, tau =',t,'delta =',d)\n",
    "A = X.copy()\n",
    "jpvt = np.zeros((n,),dtype = np.int32)\n",
    "ncols = np.zeros((n,),dtype = np.int32) # cambiare zeros in ones o viceversa\n",
    "tau = np.zeros((n,),dtype = np.float64)\n",
    "\n",
    "tic = time.perf_counter()\n",
    "#effettuo QR con pivoting\n",
    "out = QRDM.QRDM(matrix_layout, m,n,A,lda,jpvt,tau, ncols,thres,64)\n",
    "toc = time.perf_counter()\n",
    "elDMQR = toc-tic\n",
    "print(f\"Elapsed time QRP {toc - tic:0.10f} seconds\")\n",
    "Q,R,err,errQ = checkQR(matrix_layout, m, n, A, X, tau, jpvt, verbose = True)"
   ]
  },
  {
   "cell_type": "code",
   "execution_count": 13,
   "metadata": {},
   "outputs": [
    {
     "data": {
      "text/plain": [
       "[<matplotlib.lines.Line2D at 0x7fcbfa723d00>]"
      ]
     },
     "execution_count": 13,
     "metadata": {},
     "output_type": "execute_result"
    },
    {
     "data": {
      "image/png": "[encoded data removed]",
      "text/plain": [
       "<Figure size 432x288 with 1 Axes>"
      ]
     },
     "metadata": {
      "needs_background": "light"
     },
     "output_type": "display_data"
    }
   ],
   "source": [
    "diagR = np.absolute(np.diag(R))\n",
    "plt.semilogy(diagR, '*')"
   ]
  },
  {
   "cell_type": "code",
   "execution_count": 14,
   "metadata": {},
   "outputs": [
    {
     "name": "stdout",
     "output_type": "stream",
     "text": [
      "\n",
      "***************************************\n",
      "\n",
      "QRDM with stop, tau = 0.15 delta = 0.9\n",
      "Elapsed time QRP 0.0017390642 seconds\n",
      "Numerical rank  78\n",
      "||Q.T*Q - I|| =  1.0204004159885813e-14\n",
      "||R_22||_2 =  1.4957005302708597e-15\n",
      "||A[:,p] - Q*R|| =  3.0496432379080495e-15\n"
     ]
    }
   ],
   "source": [
    "print(\"\\n***************************************\\n\")\n",
    "print('QRDM with stop, tau =',t,'delta =',d)\n",
    "A = X.copy()\n",
    "jpvt = np.zeros((n,),dtype = np.int32)\n",
    "ncols = np.zeros((n,),dtype = np.int32) # cambiare zeros in ones o viceversa\n",
    "ncols[0] = 1\n",
    "tau = np.zeros((n,),dtype = np.float64)\n",
    "\n",
    "tic = time.perf_counter()\n",
    "#effettuo QR con pivoting\n",
    "out = QRDM.QRDM(matrix_layout, m,n,A,lda,jpvt,tau, ncols,thres,64)\n",
    "toc = time.perf_counter()\n",
    "elDMQR = toc-tic\n",
    "print(f\"Elapsed time QRP {toc - tic:0.10f} seconds\")\n",
    "r_QRDM = np.sum(ncols[:n])\n",
    "print('Numerical rank ', r_QRDM)\n",
    "Q,R,err,errQ = checkQR(matrix_layout, m, n, A, X, tau, jpvt, k = r_QRDM, verbose = True)"
   ]
  },
  {
   "cell_type": "code",
   "execution_count": 15,
   "metadata": {
    "scrolled": true
   },
   "outputs": [
    {
     "data": {
      "text/plain": [
       "[<matplotlib.lines.Line2D at 0x7fcbfa663e80>]"
      ]
     },
     "execution_count": 15,
     "metadata": {},
     "output_type": "execute_result"
    },
    {
     "data": {
      "image/png": "[encoded data removed]",
      "text/plain": [
       "<Figure size 432x288 with 1 Axes>"
      ]
     },
     "metadata": {
      "needs_background": "light"
     },
     "output_type": "display_data"
    }
   ],
   "source": [
    "diagR = np.absolute(np.diag(R))\n",
    "plt.semilogy(diagR, '*')"
   ]
  },
  {
   "cell_type": "code",
   "execution_count": 16,
   "metadata": {},
   "outputs": [
    {
     "data": {
      "text/plain": [
       "<matplotlib.image.AxesImage at 0x7fcbfaab3820>"
      ]
     },
     "execution_count": 16,
     "metadata": {},
     "output_type": "execute_result"
    },
    {
     "data": {
      "image/png": "[encoded data removed]",
      "text/plain": [
       "<Figure size 432x288 with 1 Axes>"
      ]
     },
     "metadata": {
      "needs_background": "light"
     },
     "output_type": "display_data"
    }
   ],
   "source": [
    "#|R_11 R_12|\n",
    "#|  0  R_22|\n",
    "plt.spy(R)"
   ]
  },
  {
   "cell_type": "code",
   "execution_count": null,
   "metadata": {},
   "outputs": [],
   "source": []
  }
 ],
 "metadata": {
  "anaconda-cloud": {},
  "kernelspec": {
   "display_name": "Python 3 (ipykernel)",
   "language": "python",
   "name": "python3"
  },
  "language_info": {
   "codemirror_mode": {
    "name": "ipython",
    "version": 3
   },
   "file_extension": ".py",
   "mimetype": "text/x-python",
   "name": "python",
   "nbconvert_exporter": "python",
   "pygments_lexer": "ipython3",
   "version": "3.8.10"
  }
 },
 "nbformat": 4,
 "nbformat_minor": 1
}
